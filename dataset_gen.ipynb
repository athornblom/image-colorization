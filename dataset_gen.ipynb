{
 "cells": [
  {
   "cell_type": "code",
   "execution_count": 17,
   "metadata": {},
   "outputs": [],
   "source": [
    "import cv2\n",
    "import os\n",
    "import numpy as np\n",
    "from PIL import Image"
   ]
  },
  {
   "cell_type": "code",
   "execution_count": 18,
   "metadata": {},
   "outputs": [],
   "source": [
    "# Load in images from images/mirflickr folder resize to 256*256 split into train and test and save in dataset folder\n",
    "def load_images_from_folder(folder):\n",
    "    images = []\n",
    "    for filename in os.listdir(folder):\n",
    "        img = cv2.imread(os.path.join(folder,filename))\n",
    "        if img is not None:\n",
    "            images.append(img)\n",
    "    return images\n",
    "\n",
    "def resize_images(images):\n",
    "    resized_images = []\n",
    "    for img in images:\n",
    "        resized_images.append(cv2.resize(img, (256, 256)))\n",
    "    return resized_images\n",
    "\n",
    "def split_images(images):\n",
    "    train_images = []\n",
    "    test_images = []\n",
    "    for img in images:\n",
    "        if np.random.rand() < 0.8:\n",
    "            train_images.append(img)\n",
    "        else:\n",
    "            test_images.append(img)\n",
    "    return train_images, test_images\n",
    "\n",
    "def save_images(images, folder):\n",
    "    for i in range(len(images)):\n",
    "        cv2.imwrite(folder + str(i) + \".jpg\", images[i])\n",
    "\n"
   ]
  },
  {
   "cell_type": "code",
   "execution_count": null,
   "metadata": {},
   "outputs": [],
   "source": [
    "images = load_images_from_folder(\"images/mirflickr\")\n",
    "resized_images = resize_images(images)\n",
    "train_images, test_images = split_images(resized_images)\n",
    "save_images(train_images, \"dataset/train/\")\n",
    "save_images(test_images, \"dataset/test/\")\n"
   ]
  },
  {
   "cell_type": "code",
   "execution_count": 19,
   "metadata": {},
   "outputs": [],
   "source": [
    "def split_images_small(images):\n",
    "    train_images = []\n",
    "    test_images = []\n",
    "    for i, img in enumerate(images):\n",
    "        if np.random.rand() < 0.8:\n",
    "            train_images.append(img)\n",
    "        else:\n",
    "            test_images.append(img)\n",
    "        if i >= 3000:\n",
    "            break\n",
    "    return train_images, test_images"
   ]
  },
  {
   "cell_type": "code",
   "execution_count": 26,
   "metadata": {},
   "outputs": [],
   "source": [
    "def clear_black_white(images):\n",
    "    saved_images = []\n",
    "    for img in images:\n",
    "        lab_img = cv2.cvtColor(img, cv2.COLOR_BGR2LAB)\n",
    "        l, a, b = cv2.split(lab_img)\n",
    "        diff = np.mean(np.abs(a - b))\n",
    "        if diff > 40:\n",
    "            saved_images.append(img)\n",
    "    return saved_images"
   ]
  },
  {
   "cell_type": "code",
   "execution_count": 28,
   "metadata": {},
   "outputs": [],
   "source": [
    "images = load_images_from_folder(\"dataset/train\")\n",
    "train_images, test_images = split_images_small(images)\n",
    "\n",
    "train_images_clear = clear_black_white(train_images)\n",
    "test_images_clear = clear_black_white(test_images)\n",
    "\n",
    "\n",
    "save_images(train_images_clear, \"dataset/small_train/\")\n",
    "save_images(test_images_clear, \"dataset/small_test/\")\n",
    "\n"
   ]
  },
  {
   "cell_type": "code",
   "execution_count": 27,
   "metadata": {},
   "outputs": [],
   "source": [
    "import os\n",
    "import glob\n",
    "\n",
    "files = glob.glob('dataset/small_train/*')\n",
    "for f in files:\n",
    "    os.remove(f)\n",
    "    \n",
    "files = glob.glob('dataset/small_test/*')\n",
    "for f in files:\n",
    "    os.remove(f) "
   ]
  }
 ],
 "metadata": {
  "kernelspec": {
   "display_name": "Python 3.9.13 ('tf')",
   "language": "python",
   "name": "python3"
  },
  "language_info": {
   "codemirror_mode": {
    "name": "ipython",
    "version": 3
   },
   "file_extension": ".py",
   "mimetype": "text/x-python",
   "name": "python",
   "nbconvert_exporter": "python",
   "pygments_lexer": "ipython3",
   "version": "3.9.13"
  },
  "orig_nbformat": 4,
  "vscode": {
   "interpreter": {
    "hash": "a551c6b0c13ca7a0a1f84f97f05df7663b1a0f5f61fd610a4a0e5e81f541579f"
   }
  }
 },
 "nbformat": 4,
 "nbformat_minor": 2
}
